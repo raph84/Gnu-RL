{
 "metadata": {
  "language_info": {
   "codemirror_mode": {
    "name": "ipython",
    "version": 3
   },
   "file_extension": ".py",
   "mimetype": "text/x-python",
   "name": "python",
   "nbconvert_exporter": "python",
   "pygments_lexer": "ipython3",
   "version": "3.8.6-final"
  },
  "orig_nbformat": 2,
  "kernelspec": {
   "name": "python3",
   "display_name": "Python 3"
  }
 },
 "nbformat": 4,
 "nbformat_minor": 2,
 "cells": [
  {
   "cell_type": "code",
   "execution_count": 1,
   "metadata": {},
   "outputs": [],
   "source": [
    "import pandas as pd"
   ]
  },
  {
   "cell_type": "code",
   "execution_count": 2,
   "metadata": {},
   "outputs": [],
   "source": [
    "# Modify here: Outputs from EnergyPlus; Match the variables.cfg file.\n",
    "obs_name = [\"Outdoor Temp.\", \"Outdoor RH\", \"Wind Speed\", \"Wind Direction\", \"Diff. Solar Rad.\", \"Direct Solar Rad.\", \"Htg SP\", \"Clg SP\", \"Indoor Temp.\", \"Indoor Temp. Setpoint\", \"PPD\", \"Occupancy Flag\", \"Coil Power\", \"HVAC Power\", \"Sys In Temp.\", \"Sys In Mdot\", \"OA Temp.\", \"OA Mdot\", \"MA Temp.\", \"MA Mdot\", \"Sys Out Temp.\", \"Sys Out Mdot\"]\n",
    "\n",
    "# Modify here: Change based on the specific control problem\n",
    "state_name = [\"Indoor Temp.\"]\n",
    "dist_name = [\"Outdoor Temp.\", \"Outdoor RH\", \"Wind Speed\", \"Wind Direction\", \"Direct Solar Rad.\", \"Occupancy Flag\"]\n",
    "# Caveat: The RL agent controls the difference between Supply Air Temp. and Mixed Air Temp., i.e. the amount of heating from the heating coil. But, the E+ expects Supply Air Temp. Setpoint.\n",
    "ctrl_name = [\"SA Temp Setpoint\"]\n",
    "target_name = [\"Indoor Temp. Setpoint\"]\n",
    "\n",
    "obs = pd.read_pickle(\"results/Dist-TMY2.pkl\")\n",
    "target = obs[target_name]\n",
    "disturbance = obs[dist_name]"
   ]
  },
  {
   "cell_type": "code",
   "execution_count": 3,
   "metadata": {},
   "outputs": [
    {
     "output_type": "execute_result",
     "data": {
      "text/plain": [
       "                     Outdoor Temp.  Outdoor RH  Wind Speed  Wind Direction  \\\n",
       "2005-01-01 00:00:00           -3.0        92.0        5.70           140.0   \n",
       "2005-01-01 00:15:00           -3.0        92.0        5.95           107.5   \n",
       "2005-01-01 00:30:00           -3.0        92.0        6.20            75.0   \n",
       "2005-01-01 00:45:00           -3.0        92.0        6.45            42.5   \n",
       "2005-01-01 01:00:00           -3.0        92.0        6.70            10.0   \n",
       "...                            ...         ...         ...             ...   \n",
       "2005-04-01 23:00:00           -7.0        77.0        2.60           120.0   \n",
       "2005-04-01 23:15:00           -6.0        74.0        3.10           130.0   \n",
       "2005-04-01 23:30:00           -5.0        71.0        3.60           140.0   \n",
       "2005-04-01 23:45:00           -4.0        68.0        4.10           150.0   \n",
       "2005-04-02 00:00:00           -3.0        65.0        4.60           160.0   \n",
       "\n",
       "                     Direct Solar Rad.  Occupancy Flag  \n",
       "2005-01-01 00:00:00                0.0             0.0  \n",
       "2005-01-01 00:15:00                0.0             0.0  \n",
       "2005-01-01 00:30:00                0.0             0.0  \n",
       "2005-01-01 00:45:00                0.0             0.0  \n",
       "2005-01-01 01:00:00                0.0             0.0  \n",
       "...                                ...             ...  \n",
       "2005-04-01 23:00:00                0.0             0.0  \n",
       "2005-04-01 23:15:00                0.0             0.0  \n",
       "2005-04-01 23:30:00                0.0             0.0  \n",
       "2005-04-01 23:45:00                0.0             0.0  \n",
       "2005-04-02 00:00:00                0.0             0.0  \n",
       "\n",
       "[8737 rows x 6 columns]"
      ],
      "text/html": "<div>\n<style scoped>\n    .dataframe tbody tr th:only-of-type {\n        vertical-align: middle;\n    }\n\n    .dataframe tbody tr th {\n        vertical-align: top;\n    }\n\n    .dataframe thead th {\n        text-align: right;\n    }\n</style>\n<table border=\"1\" class=\"dataframe\">\n  <thead>\n    <tr style=\"text-align: right;\">\n      <th></th>\n      <th>Outdoor Temp.</th>\n      <th>Outdoor RH</th>\n      <th>Wind Speed</th>\n      <th>Wind Direction</th>\n      <th>Direct Solar Rad.</th>\n      <th>Occupancy Flag</th>\n    </tr>\n  </thead>\n  <tbody>\n    <tr>\n      <th>2005-01-01 00:00:00</th>\n      <td>-3.0</td>\n      <td>92.0</td>\n      <td>5.70</td>\n      <td>140.0</td>\n      <td>0.0</td>\n      <td>0.0</td>\n    </tr>\n    <tr>\n      <th>2005-01-01 00:15:00</th>\n      <td>-3.0</td>\n      <td>92.0</td>\n      <td>5.95</td>\n      <td>107.5</td>\n      <td>0.0</td>\n      <td>0.0</td>\n    </tr>\n    <tr>\n      <th>2005-01-01 00:30:00</th>\n      <td>-3.0</td>\n      <td>92.0</td>\n      <td>6.20</td>\n      <td>75.0</td>\n      <td>0.0</td>\n      <td>0.0</td>\n    </tr>\n    <tr>\n      <th>2005-01-01 00:45:00</th>\n      <td>-3.0</td>\n      <td>92.0</td>\n      <td>6.45</td>\n      <td>42.5</td>\n      <td>0.0</td>\n      <td>0.0</td>\n    </tr>\n    <tr>\n      <th>2005-01-01 01:00:00</th>\n      <td>-3.0</td>\n      <td>92.0</td>\n      <td>6.70</td>\n      <td>10.0</td>\n      <td>0.0</td>\n      <td>0.0</td>\n    </tr>\n    <tr>\n      <th>...</th>\n      <td>...</td>\n      <td>...</td>\n      <td>...</td>\n      <td>...</td>\n      <td>...</td>\n      <td>...</td>\n    </tr>\n    <tr>\n      <th>2005-04-01 23:00:00</th>\n      <td>-7.0</td>\n      <td>77.0</td>\n      <td>2.60</td>\n      <td>120.0</td>\n      <td>0.0</td>\n      <td>0.0</td>\n    </tr>\n    <tr>\n      <th>2005-04-01 23:15:00</th>\n      <td>-6.0</td>\n      <td>74.0</td>\n      <td>3.10</td>\n      <td>130.0</td>\n      <td>0.0</td>\n      <td>0.0</td>\n    </tr>\n    <tr>\n      <th>2005-04-01 23:30:00</th>\n      <td>-5.0</td>\n      <td>71.0</td>\n      <td>3.60</td>\n      <td>140.0</td>\n      <td>0.0</td>\n      <td>0.0</td>\n    </tr>\n    <tr>\n      <th>2005-04-01 23:45:00</th>\n      <td>-4.0</td>\n      <td>68.0</td>\n      <td>4.10</td>\n      <td>150.0</td>\n      <td>0.0</td>\n      <td>0.0</td>\n    </tr>\n    <tr>\n      <th>2005-04-02 00:00:00</th>\n      <td>-3.0</td>\n      <td>65.0</td>\n      <td>4.60</td>\n      <td>160.0</td>\n      <td>0.0</td>\n      <td>0.0</td>\n    </tr>\n  </tbody>\n</table>\n<p>8737 rows × 6 columns</p>\n</div>"
     },
     "metadata": {},
     "execution_count": 3
    }
   ],
   "source": [
    "disturbance"
   ]
  },
  {
   "cell_type": "code",
   "execution_count": null,
   "metadata": {},
   "outputs": [],
   "source": []
  }
 ]
}